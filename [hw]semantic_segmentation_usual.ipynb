{
  "nbformat": 4,
  "nbformat_minor": 0,
  "metadata": {
    "kernelspec": {
      "name": "python3",
      "display_name": "Python 3"
    },
    "language_info": {
      "codemirror_mode": {
        "name": "ipython",
        "version": 3
      },
      "file_extension": ".py",
      "mimetype": "text/x-python",
      "name": "python",
      "nbconvert_exporter": "python",
      "pygments_lexer": "ipython3",
      "version": "3.7.3"
    },
    "colab": {
      "provenance": [],
      "toc_visible": true,
      "include_colab_link": true
    },
    "gpuClass": "standard"
  },
  "cells": [
    {
      "cell_type": "markdown",
      "metadata": {
        "id": "view-in-github",
        "colab_type": "text"
      },
      "source": [
        "<a href=\"https://colab.research.google.com/github/asya474/semantic_segmentation/blob/main/%5Bhw%5Dsemantic_segmentation_usual.ipynb\" target=\"_parent\"><img src=\"https://colab.research.google.com/assets/colab-badge.svg\" alt=\"Open In Colab\"/></a>"
      ]
    },
    {
      "cell_type": "code",
      "source": [
        "from google.colab import drive\n",
        "drive.mount('/content/drive', force_remount=True)"
      ],
      "metadata": {
        "colab": {
          "base_uri": "https://localhost:8080/"
        },
        "id": "w7XkPj8NupQk",
        "outputId": "c0cf88dc-8201-40e6-fbba-8b638a5c7c53"
      },
      "execution_count": 1,
      "outputs": [
        {
          "output_type": "stream",
          "name": "stdout",
          "text": [
            "Mounted at /content/drive\n"
          ]
        }
      ]
    },
    {
      "cell_type": "code",
      "metadata": {
        "id": "z78XEo0nUBtW",
        "colab": {
          "base_uri": "https://localhost:8080/"
        },
        "outputId": "d52b744f-5b9e-4077-fdbe-1cdd0961e455"
      },
      "source": [
        "!wget -c /content/drive/MyDrive/Colab_Notebooks/PH2Dataset.rar"
      ],
      "execution_count": 2,
      "outputs": [
        {
          "output_type": "stream",
          "name": "stdout",
          "text": [
            "/content/drive/MyDrive/Colab_Notebooks/PH2Dataset.rar: Scheme missing.\n"
          ]
        }
      ]
    },
    {
      "cell_type": "code",
      "metadata": {
        "colab": {
          "base_uri": "https://localhost:8080/"
        },
        "id": "KxpWdpQiRL9l",
        "outputId": "9bc4ae81-87c5-4b6d-90dc-9adcb14b2e40"
      },
      "source": [
        "!ls"
      ],
      "execution_count": 3,
      "outputs": [
        {
          "output_type": "stream",
          "name": "stdout",
          "text": [
            "drive  sample_data\n"
          ]
        }
      ]
    },
    {
      "cell_type": "code",
      "source": [
        "!pwd"
      ],
      "metadata": {
        "id": "LPdAf4eiW0Af"
      },
      "execution_count": null,
      "outputs": []
    },
    {
      "cell_type": "code",
      "metadata": {
        "id": "4ZxtnTZ5f9vk"
      },
      "source": [
        "images=[]\n",
        "lesions=[]\n",
        "from skimage.io import imread\n",
        "import os\n",
        "\n",
        "root='kaggle\\input\\hw5-rodinki/PH2Dataset'\n",
        "\n",
        "for root, dirs, files in os.walk(os.path.join(root, 'PH2 Dataset Images')):\n",
        "  if root.endswith('_Dermoscopic_Image'):\n",
        "    images.append(imread(os.path.join(root, files[0])))\n",
        "  if root.endswith('_lesion'):\n",
        "    lesions.append(imread(os.path.join(root, files[0])))"
      ],
      "execution_count": null,
      "outputs": []
    },
    {
      "cell_type": "code",
      "source": [
        "from skimage.transform import resize\n",
        "size=(256, 256)\n",
        "X=[resize (x, size, mode='constant', anti_aliasing=True,) for x in images]\n",
        "Y=[resize (y, size, mode='constant', anti_aliasing=False,)> 0.5 for y in lesions ]"
      ],
      "metadata": {
        "id": "2k2mezAXegMX"
      },
      "execution_count": null,
      "outputs": []
    },
    {
      "cell_type": "code",
      "source": [
        "import numpy as np\n",
        "X=np.array(X, np.float32)\n",
        "Y=np.array(Y, np.float32)\n",
        "print(f'loaded {len(X)} images')"
      ],
      "metadata": {
        "id": "SsiEOI1qg3Jg"
      },
      "execution_count": null,
      "outputs": []
    },
    {
      "cell_type": "code",
      "source": [
        "len(lesions)"
      ],
      "metadata": {
        "id": "PIsxZJ5WhPtv"
      },
      "execution_count": null,
      "outputs": []
    },
    {
      "cell_type": "code",
      "source": [
        "import matplotlib.pyplot as plt\n",
        "from IPython.display import clear_output\n",
        "\n",
        "plt.figure(fig=(18, 6))\n",
        "for i in range(6):\n",
        "  plt.subplot(2, 6, i+1)\n",
        "  plt.axis(\"off\")\n",
        "  plt.imshow(X[i])\n",
        "\n",
        "  plt.subplot(2, 6, i+7)\n",
        "  plt.axis('off')\n",
        "  plt.imshow(Y[i])\n",
        "plt.show();"
      ],
      "metadata": {
        "id": "nSJViEiJiJKB"
      },
      "execution_count": null,
      "outputs": []
    },
    {
      "cell_type": "code",
      "source": [
        "ix=np.random.choice(len(X), len(X), False)\n",
        "tr, val, ts=np.split(ix, [100, 150])"
      ],
      "metadata": {
        "id": "N1GA_uH1qRCn"
      },
      "execution_count": null,
      "outputs": []
    },
    {
      "cell_type": "code",
      "source": [
        "print(len(tr), len(val), len(ts))"
      ],
      "metadata": {
        "id": "huMepEJ3qsva"
      },
      "execution_count": null,
      "outputs": []
    },
    {
      "cell_type": "code",
      "source": [
        "from torch.utils.data import DataLoader\n",
        "batch_size=25\n",
        "data_tr=DataLoader(list(zip(np.rollaxis(X[tr], 3, 1), Y[tr, np.newaxis])),\n",
        "                   batch_size=batch_size, shuffle=True)\n",
        "data_val=DataLoader(list(zip(np.rollaxis(X[val], 3, 1), Y[val, np.newaxis])),\n",
        "                   batch_size=batch_size, shuffle=True)\n",
        "data_ts=DataLoader(list(zip(np.rollaxis(X[ts], 3, 1), Y[ts, np.newaxis])),\n",
        "                   batch_size=batch_size, shuffle=True)"
      ],
      "metadata": {
        "id": "O6Kmjt-mq_nb"
      },
      "execution_count": null,
      "outputs": []
    },
    {
      "cell_type": "code",
      "source": [
        "import torch\n",
        "device=torch.device('cuda' if torch.cuda.is_available() else 'cpu')"
      ],
      "metadata": {
        "id": "6hPhYXh6lIf0"
      },
      "execution_count": null,
      "outputs": []
    },
    {
      "cell_type": "code",
      "source": [
        "import torch\n",
        "import torch.nn as nn\n",
        "import torch.nn.Functional as F\n",
        "from torchvision import models\n",
        "import torch.optim as optim\n",
        "from time import time\n",
        "\n",
        "from matplotlib import rcParams\n",
        "rcParams['figure.figsize'] = (15, 6)"
      ],
      "metadata": {
        "id": "_8h8rToKH3H2"
      },
      "execution_count": null,
      "outputs": []
    },
    {
      "cell_type": "code",
      "source": [
        "class SegNet(nn.Module):\n",
        "  def __init__(self):\n",
        "    super().__init__()\n",
        "\n",
        "    self.enc_conv0=nn.Sequential(nn.BatchNorm2d(num_features=3),\n",
        "                                 nn.Conv2d(in_channels=3, out_channels=64, kernel_size=3, padding=1),\n",
        "                                 nn.ReLU())\n",
        "    self.pool0=nn.MaxPool2d(2, return_indices=True)\n",
        "\n",
        "    self.enc_conv1=nn.Sequential(nn.BatchNorm2d(num_features=64),\n",
        "                                 nn.Conv2d(in_cnannels=64, out_channels=128, kernel_size=3, padding=1),\n",
        "                                 nn.ReLU())\n",
        "    self.pool1=nn.MaxPool2d(2, return_indices=True)\n",
        "\n",
        "    self.enc_conv2=nn.Sequential(nn.BatchNorm2d(num_features=128),\n",
        "                                 nn.Conv2d(in_channels=128, out_channels=256, kernel_size=3, padding=1),\n",
        "                                 nn.ReLU())\n",
        "    self.pool2=nn.MaxPool2d(2, return_indices=True)\n",
        "\n",
        "    self.enc_conv3=nn.Sequential(nn.BatchNorm2d(num_features=256),\n",
        "                                 nn.Conv2d(in_channels=256, out_channels=512, kernel_size=3, padding=1),\n",
        "                                 nn.ReLU())\n",
        "    self.pool3=nn.MaxPool2d(2, return_indices=True)\n",
        "\n",
        "    #bottleneck\n",
        "    self.bottleneck_conv=nn.Sequential(nn.BatchNorm2d(num_features=512),\n",
        "                                       nn.Conv2d(in_channels=512, out_channels=512, kernel_size=1),\n",
        "                                       nn.ReLU())\n",
        "    \n",
        "    #decoder(upsampling)\n",
        "    self.upsample0=nn.MaxUnpool2d(2)\n",
        "    self.dec_conv0=nn.Sequential(nn.BatchNorm2d(num_features=512),\n",
        "                                 nn.Conv2d(in_channels=512, out_channels=256, kernel_size=3, padding=1),\n",
        "                                 nn.ReLU())\n",
        "    \n",
        "    self.upsample1=nn.MaxUnpool2d(2)\n",
        "    self.dec_conv1=nn.Sequential(nn.BatchNorm2d(num_features=256),\n",
        "                                 nn.Conv2d(in_channels=256, out_channels=128, kernel_size=3, padding=1),\n",
        "                                 nn.ReLU())\n",
        "    \n",
        "    self.upsample2=nn.MaxUnpool2d(2)\n",
        "    self.dec_conv2=nn.Sequential(nn.BatchNorm2d(num_features=128),\n",
        "                                 nn.Conv2d(in_channels=128, out_channels=64, kernel_size=3, padding=1),\n",
        "                                 nn.ReLU())\n",
        "    \n",
        "    self.upsample3=nn.MaxUnpool2d()\n",
        "    self.dec_conv3=nn.Sequential(nn.BatchNorm2d(num_features=64),\n",
        "                                 nn.Conv2d(in_channels=64, out_channels=1, kernel_size=3, padding=1))\n",
        "    \n",
        "  def forward(self, x):\n",
        "    e0, indices3=self.pool0(self.enc_conv0(x))  \n",
        "    e1, indices2=self.pool1(self.enc_conv1(e0))\n",
        "    e2, indices1=self.pool2(self.enc_conv2(e1))\n",
        "    e3, indices0=self.pool3(self.enc_conv3(e2))\n",
        "    b=self.bottleneck_conv(e3)\n",
        "    d0=self.dec_conv0(self.upsample0(b, indices0))\n",
        "    d1=self.dec_conv1(self.upsample1(d0, indices1))\n",
        "    d2=self.dec_conv2(self.upsample2(d1, indices2))\n",
        "    d3=self.dec_conv3(self.upsample2(d2, indices3))\n",
        "    return d3\n"
      ],
      "metadata": {
        "id": "WD5NHAORKe9M"
      },
      "execution_count": null,
      "outputs": []
    }
  ]
}